{
 "cells": [
  {
   "cell_type": "markdown",
   "metadata": {},
   "source": [
    "# Utilizando image classification e Augmented AI em imagens de raio-x para detecção de COVID-19 – Part 2"
   ]
  },
  {
   "cell_type": "markdown",
   "metadata": {},
   "source": [
    "Na parte 1 dessa série de blogposts, utilizamos o algoritmo builtin da AWS, image classification, para classificar imagens de exames de raios-X de pacientes buscando por indícios de Covid-19. Embora nosso classificador tenha demonstrado um alto valor de confiabilidade com as imagens testadas, podemos ter imagens em que o modelo não tenha uma acurácia aceitável e uma validação de um especialista se faz necessário. \n",
    "\n",
    "A validação humana é um caso comum em problemas que envolvem machine learning, para isso a AWS conta com o serviço Amazon Augmented AI(Amazon A2I), que provê as features necessárias para atribuir tarefas a um grupo de usuários que serão responsáveis pela tomada de decisão.\n",
    "\n",
    "Nesse blogpost criaremos uma workforce com um usuário, criaremos um template para o usuário interagir com a tarefa, criaremos uma tarefa para o usuário com uma imagem da nossa pasta de teste e simularemos um usuário realizando a classificação. o Notebook com todos os passos desse post você pode encontrar aqui: https://github.com/thiagomcouto/covid19_image_classification_part2_amazon_a2i"
   ]
  },
  {
   "cell_type": "markdown",
   "metadata": {},
   "source": [
    "## Criando a workforce privada\n",
    "\n",
    "Para iniciarmos nosso trabalho, vamos criar uma workforce privada. Vamos seguir o tutorial do link: https://docs.aws.amazon.com/sagemaker/latest/dg/sms-workforce-create-private-console.html#create-workforce-sm-console\n",
    "\n",
    "E preencher com os seguintes valores:\n",
    "\n",
    "* Private team creation: Selecione \"Create a private team with AWS Cognito\"\n",
    "* Team Name: Escolha um nome para sua equipe como \"Medical-Private-Team\"\n",
    "* Add Workers: Selecione \"Invite new workers by email\"\n",
    "* Email Addresses: insire seu e-mail (importante ter acesso a esse e-mail para executar a validação)\n",
    "* Organization name: Insira um nome relevante para sua organização\n",
    "* Contact email: insira seu e-mail novamente\n",
    "\n",
    "Segue exemplo dos campos preenchidos:"
   ]
  },
  {
   "cell_type": "markdown",
   "metadata": {},
   "source": [
    "![image](./private_team2.png)"
   ]
  },
  {
   "cell_type": "markdown",
   "metadata": {},
   "source": [
    "Com a private team criada, copie o ARN da sua private team como na imagem abaixo:\n",
    "\n",
    "![image](./private_team3.png)"
   ]
  },
  {
   "cell_type": "markdown",
   "metadata": {},
   "source": [
    "Copie o campo na variável abaixo:"
   ]
  },
  {
   "cell_type": "code",
   "execution_count": 21,
   "metadata": {},
   "outputs": [],
   "source": [
    "privateTeamARN = \"<YOUR_PRIVATE_TEAM_ARN>\""
   ]
  },
  {
   "cell_type": "markdown",
   "metadata": {},
   "source": [
    "Agora vamos confirmar nosso e-mail e validar que conseguimos logar na aplicação com sucesso. O e-mail tem o título: <i>\"You're invited by YOURORGANIZATION to work on a labeling project\"</i>. Clique no link, digite o usuário e senha no e-mail e escolhe uma nova senha."
   ]
  },
  {
   "cell_type": "markdown",
   "metadata": {},
   "source": [
    "## Inicializando\n",
    "\n",
    "Com nossa private team devidamente criada e com nosso cadastro validado, vamos iniciar a criação de um workflow de review de uma imagem, simulando o papel de um médico verificando a imagem de um raio-X e tomando a decisão.\n",
    "\n",
    "Abaixo vamos fazer inicializar nossas bibliotecas e configurar variáveis para posterior utilização. Para esse blogpost estamos utilizando a região <i>us-east-1</i>."
   ]
  },
  {
   "cell_type": "code",
   "execution_count": 22,
   "metadata": {},
   "outputs": [],
   "source": [
    "\n",
    "import uuid\n",
    "import os\n",
    "import boto3\n",
    "import botocore\n",
    "import random\n",
    "import numpy as np\n",
    "import json\n",
    "import time\n",
    "import sagemaker\n",
    "\n",
    "# iniciando a sessão e buscando o bucket default\n",
    "sess = sagemaker.session.Session()\n",
    "bucket = sess.default_bucket()\n",
    "\n",
    "# recuperando a role utilizada nas chamadas\n",
    "role = get_execution_role()\n",
    "\n",
    "timestamp = time.strftime(\"%Y-%m-%d-%H-%M-%S\", time.gmtime())\n",
    "\n",
    "# utilizando a região us-east-1\n",
    "region = 'us-east-1'\n",
    "\n",
    "# Amazon SageMaker client\n",
    "sagemaker_client = boto3.client('sagemaker', region)\n",
    "\n",
    "# Amazon Augment AI (A2I) client\n",
    "a2i = boto3.client('sagemaker-a2i-runtime')\n",
    "\n",
    "# Amazon S3 client \n",
    "s3 = boto3.client('s3', region)\n",
    "\n",
    "# Flow definition name - nome do flow que será criado\n",
    "flowDefinitionName = 'fd-covid19-demo-' + timestamp\n",
    "\n",
    "# Task UI name - nome da task que será criada para interação\n",
    "taskUIName = 'ui-covid19-demo-' + timestamp"
   ]
  },
  {
   "cell_type": "markdown",
   "metadata": {},
   "source": [
    "## Criando o template\n",
    "\n",
    "Com as variáveis e libs inicializadas, vamos criar o template, esse template será a base da nossa interface gráfica para validação. uma lista de templates de exemplo pode ser encontrada aqui:https://github.com/aws-samples/amazon-a2i-sample-task-uis."
   ]
  },
  {
   "cell_type": "code",
   "execution_count": 23,
   "metadata": {},
   "outputs": [],
   "source": [
    "template = r\"\"\"\n",
    "<script src=\"https://assets.crowd.aws/crowd-html-elements.js\"></script>\n",
    "\n",
    "<crowd-form>\n",
    "  <crowd-image-classifier\n",
    "    name=\"crowd-image-classifier\"\n",
    "    src=\"{{ task.input.taskObject | grant_read_access }}\"\n",
    "    header=\"Selecione a classificação correta\"\n",
    "    categories=\"['Covid-19 Detectado', 'Covid-19 Não Detectado']\"\n",
    "  >\n",
    "    <full-instructions header=\"Classification Instructions\">\n",
    "      <p>Analise a imagem e determine o resultado</p>\n",
    "    </full-instructions>\n",
    "\n",
    "    <short-instructions>\n",
    "      <p>Analise a imagem e determine o resultado</p>\n",
    "    </short-instructions>\n",
    "  </crowd-image-classifier>\n",
    "</crowd-form>\n",
    "\"\"\""
   ]
  },
  {
   "cell_type": "markdown",
   "metadata": {},
   "source": [
    "Com o template definido vamos criar uma taskUI"
   ]
  },
  {
   "cell_type": "code",
   "execution_count": 24,
   "metadata": {},
   "outputs": [
    {
     "name": "stdout",
     "output_type": "stream",
     "text": [
      "arn:aws:sagemaker:us-east-1:709657544516:human-task-ui/ui-covid19-demo-2020-11-24-14-19-36\n"
     ]
    }
   ],
   "source": [
    "humanTaskUiResponse = sagemaker_client.create_human_task_ui(\n",
    "        HumanTaskUiName=taskUIName,\n",
    "        UiTemplate={'Content': template})\n",
    "\n",
    "humanTaskUiArn = humanTaskUiResponse['HumanTaskUiArn']\n",
    "\n",
    "print(humanTaskUiArn)"
   ]
  },
  {
   "cell_type": "markdown",
   "metadata": {},
   "source": [
    "## Definindo o workflow\n",
    "\n",
    "Na célua abaixo, vamos criar definir um workflow. Basicamente nosso workflow relaciona uma interface para uma tarefa humana, uma equipe(no nosso caso privada) criada anteriormente e um bucket onde vamos armazenar a resposta do nosso usuário que fará a interação com a tarefa. Mais detalhes sobre workflow aqui: https://docs.aws.amazon.com/sagemaker/latest/dg/a2i-create-flow-definition.html"
   ]
  },
  {
   "cell_type": "code",
   "execution_count": 25,
   "metadata": {},
   "outputs": [],
   "source": [
    "outputPath = 's3://{}/{}/output'.format(bucket, flowDefinitionName)\n",
    "create_workflow_definition_response = sagemaker_client.create_flow_definition(\n",
    "        FlowDefinitionName= flowDefinitionName,\n",
    "        RoleArn= role,\n",
    "        HumanLoopConfig= {\n",
    "            \"WorkteamArn\": privateTeamARN,\n",
    "            \"HumanTaskUiArn\": humanTaskUiArn,\n",
    "            \"TaskCount\": 1,\n",
    "            \"TaskDescription\": \"Detectar Covid19\",\n",
    "            \"TaskTitle\": \"Detectar Covid19\"\n",
    "        },\n",
    "        OutputConfig={\n",
    "            \"S3OutputPath\" : outputPath\n",
    "        }\n",
    "    )\n",
    "\n",
    "# armzanenando o arn do flow definition para posterior utilização\n",
    "flowDefinitionArn = create_workflow_definition_response['FlowDefinitionArn'] "
   ]
  },
  {
   "cell_type": "markdown",
   "metadata": {},
   "source": [
    "Na célula abaixo validaremos se nosso flow já se encontra ativo o pronto para o uso"
   ]
  },
  {
   "cell_type": "code",
   "execution_count": 26,
   "metadata": {},
   "outputs": [
    {
     "name": "stdout",
     "output_type": "stream",
     "text": [
      "Active\n",
      "Flow Definition is active\n"
     ]
    }
   ],
   "source": [
    "# Describe flow definition - status should be active\n",
    "for x in range(60):\n",
    "    describeFlowDefinitionResponse = sagemaker_client.describe_flow_definition(FlowDefinitionName=flowDefinitionName)\n",
    "    print(describeFlowDefinitionResponse['FlowDefinitionStatus'])\n",
    "    if (describeFlowDefinitionResponse['FlowDefinitionStatus'] == 'Active'):\n",
    "        print(\"Flow Definition is active\")\n",
    "        break\n",
    "    time.sleep(2)"
   ]
  },
  {
   "cell_type": "markdown",
   "metadata": {},
   "source": [
    "## Criando um human loop\n",
    "\n",
    "Após as etapas anteriores, vamos criar um human loop, enviando uma imagem de um raio-x do post anterior para um usuário de nossa private team validar e dar o veredito. Nesse post estou utilizando uma das imagens da nossa pasta de teste da part 1 desse post, para utilizar outra imagem basta alterar o endereço abaixo."
   ]
  },
  {
   "cell_type": "code",
   "execution_count": 27,
   "metadata": {},
   "outputs": [],
   "source": [
    "# referência a imagem do post anterior\n",
    "image =  's3://{}/{}'.format(bucket, \"covid19/test/5A78BCA9-5B7A-440D-8A4E-AE7710EA6EAD.jpeg\")"
   ]
  },
  {
   "cell_type": "code",
   "execution_count": 28,
   "metadata": {},
   "outputs": [],
   "source": [
    "\n",
    "inputContent = {\n",
    "            \"initialValue\": str(0),\n",
    "            \"taskObject\": image\n",
    "        }\n",
    "\n",
    "humanLoopName = str(uuid.uuid4())\n",
    "\n",
    "\n",
    "start_loop_response = a2i.start_human_loop(\n",
    "            HumanLoopName=humanLoopName,\n",
    "            FlowDefinitionArn=flowDefinitionArn,\n",
    "            HumanLoopInput={\n",
    "                \"InputContent\": json.dumps(inputContent)\n",
    "            },\n",
    "            DataAttributes={\n",
    "                'ContentClassifiers': [\n",
    "                    'FreeOfPersonallyIdentifiableInformation','FreeOfAdultContent'\n",
    "                ]\n",
    "            }\n",
    "        )"
   ]
  },
  {
   "cell_type": "markdown",
   "metadata": {},
   "source": [
    "## Executando a tarefa\n",
    "\n",
    "Com a tarefa criada, vamos abri-la e selecionar a classificação correta, para acessar as tarefas pendentes, vamos até o e-mail e abriremos o link recebido(o mesmo que utilizamos para trocar a senha anteriormente). Após logarmos teremos uma visão similar a tela abaixo:"
   ]
  },
  {
   "cell_type": "markdown",
   "metadata": {},
   "source": [
    "![image](./task.png)"
   ]
  },
  {
   "cell_type": "markdown",
   "metadata": {},
   "source": [
    "Ao selecionarmos a tarefa e clicarmos em Start working, teremos a tela abaixo:"
   ]
  },
  {
   "cell_type": "markdown",
   "metadata": {},
   "source": [
    "![image](./task_detail.png)"
   ]
  },
  {
   "cell_type": "markdown",
   "metadata": {},
   "source": [
    "No caso acima, a imagem pertencia a classe \"Detectado\". Selecionamos a opção correta(1) e clicamos em <i>\"Submit\"</i>. A tarefa vai ser finalizada e o resultado vai ser armazenado do s3 informado no momento da criação do flow.\n",
    "\n",
    "Interessante observar que a tela foi formada com base no nosso template e é amplamente customizável para conter outras categorias, textos, descrições e afins. No link  citado anteriormente temos outras sugestões de templates para criarmos a interface da nossa tarefa."
   ]
  },
  {
   "cell_type": "markdown",
   "metadata": {},
   "source": [
    "## Analisando o resultado\n",
    "\n",
    "Após submeter a tarefa com nossa resposta, os dados da nossa análise são armazenados no S3 que informamos para output, seguindo o padrão YYYY/MM/DD/hh/mm/ss. Essa estrutura torna a resposta particionada e facilmente integrável com AWS Glue e Athena. Mais informações no link: https://docs.aws.amazon.com/sagemaker/latest/dg/a2i-monitor-humanloop-results.html\n",
    "\n",
    "Vamos utilizar o nome do human loop que armazenamos anteriormente para buscar o local exato do json, faremos a leitura de seu conteúdo e armazenaremos itens importantes para a análise da resposta."
   ]
  },
  {
   "cell_type": "code",
   "execution_count": 47,
   "metadata": {},
   "outputs": [
    {
     "name": "stdout",
     "output_type": "stream",
     "text": [
      "[{'answerContent': {'crowd-image-classifier': {'label': 'Covid-19 Detectado'}}, 'submissionTime': '2020-11-24T16:22:44.687Z', 'workerId': '0e62a0c3ec41f607', 'workerMetadata': {'identityData': {'identityProviderType': 'Cognito', 'issuer': 'https://cognito-idp.us-east-1.amazonaws.com/us-east-1_FLSc1OaUr', 'sub': '4aec38d6-0108-4344-9d2a-9757bf0f48a7'}}}]\n"
     ]
    }
   ],
   "source": [
    "import json\n",
    "# buscando a human loop\n",
    "humanLoopResponse = a2i.describe_human_loop(HumanLoopName = humanLoopName)\n",
    "\n",
    "#lendo o conteúdo\n",
    "s3Output = humanLoopResponse[\"HumanLoopOutput\"][\"OutputS3Uri\"]\n",
    "content = sess.read_s3_file(bucket, s3Output.replace(\"s3://{}/\".format(bucket),\"\"))\n",
    "\n",
    "#armazenando em variáveis\n",
    "response = json.loads(content)\n",
    "answer = response[\"humanAnswers\"][0][\"answerContent\"][\"crowd-image-classifier\"][\"label\"]\n",
    "taskInput = response[\"inputContent\"][\"taskObject\"]\n"
   ]
  },
  {
   "cell_type": "markdown",
   "metadata": {},
   "source": [
    "Na célula abaixo temos a imagem que foi usada para análise e a resposta que submetemos na tarefa"
   ]
  },
  {
   "cell_type": "code",
   "execution_count": 52,
   "metadata": {},
   "outputs": [
    {
     "name": "stdout",
     "output_type": "stream",
     "text": [
      "Imagem: s3://sagemaker-us-east-1-709657544516/covid19/test/5A78BCA9-5B7A-440D-8A4E-AE7710EA6EAD.jpeg Resposta do usuário: Covid-19 Detectado\n"
     ]
    }
   ],
   "source": [
    "print(\"Imagem: \"+ taskInput + \" Resposta do usuário: \"+answer)"
   ]
  },
  {
   "cell_type": "markdown",
   "metadata": {},
   "source": [
    "## Conclusão e próximos passos\n",
    "\n",
    "Nessa série de blogposts utilizamos um dataset de raios-x torácico previamente classificados entre pacientes detectados ou não com o Covid-19.\n",
    "\n",
    "Na primera parte exploramos o algoritmo de image classification built-in da AWS, baseado em ResNet, para treinarmos um modelo e fazermos a validação de seu desempenho.\n",
    "\n",
    "Na segunda parte exploramos a necessidade de termos uma avaliação humana para casos de respostas não acertivas do modelo. Criando um fluxo de análise manual que recebe como input a imagem previamente analisada, cria uma tarefa para um grupo de usuários privados e possibilita que esses usuários analisem as imagens e classifiquem-a corretamente.\n",
    "\n",
    "Abaixo seguem alguns links relevantes e próximos passos:\n",
    "\n",
    "Documentação para human review: https://docs.aws.amazon.com/sagemaker/latest/dg/a2i-use-augmented-ai-a2i-human-review-loops.html\n",
    "\n",
    "Algoritmo de classificação de imagem: https://docs.aws.amazon.com/sagemaker/latest/dg/image-classification.html\n",
    "\n",
    "Treinamentos oficiais de machine learning: https://aws.amazon.com/training/learn-about/machine-learning/"
   ]
  }
 ],
 "metadata": {
  "kernelspec": {
   "display_name": "conda_mxnet_p36",
   "language": "python",
   "name": "conda_mxnet_p36"
  },
  "language_info": {
   "codemirror_mode": {
    "name": "ipython",
    "version": 3
   },
   "file_extension": ".py",
   "mimetype": "text/x-python",
   "name": "python",
   "nbconvert_exporter": "python",
   "pygments_lexer": "ipython3",
   "version": "3.6.10"
  }
 },
 "nbformat": 4,
 "nbformat_minor": 4
}
